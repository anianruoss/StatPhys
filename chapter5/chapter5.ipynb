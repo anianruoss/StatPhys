{
 "cells": [
  {
   "cell_type": "markdown",
   "metadata": {},
   "source": [
    "# Programming exercises from Chapter 5"
   ]
  },
  {
   "cell_type": "markdown",
   "metadata": {},
   "source": [
    "Import dependencies:"
   ]
  },
  {
   "cell_type": "code",
   "execution_count": null,
   "metadata": {},
   "outputs": [],
   "source": [
    "import re, string\n",
    "import numpy as np\n",
    "import matplotlib.pyplot as plt"
   ]
  },
  {
   "cell_type": "markdown",
   "metadata": {},
   "source": [
    "Define helper functions to extract properties from output files:"
   ]
  },
  {
   "cell_type": "code",
   "execution_count": null,
   "metadata": {},
   "outputs": [],
   "source": [
    "def extract_properties(regex_match):\n",
    "    properties = {}\n",
    "    properties[\"step\"] = int(regex_match.group(1))\n",
    "    properties[\"time\"] = float(regex_match.group(2))\n",
    "    properties[\"etot\"] = float(regex_match.group(3))\n",
    "    properties[\"ekin\"] = float(regex_match.group(4))\n",
    "    properties[\"epot\"] = float(regex_match.group(5))\n",
    "    properties[\"vir\"] = float(regex_match.group(6))\n",
    "    properties[\"pressure\"] = float(regex_match.group(7))\n",
    "    properties[\"scalet\"] = float(regex_match.group(8))\n",
    "    return properties\n",
    "\n",
    "def find_properties(file, preceding_pattern):\n",
    "    \"\"\"\n",
    "    This function first searches for preceding_pattern, and the next occurrence of\n",
    "    a line containing properties is returned as a dictionary.\n",
    "    \"\"\"\n",
    "    property_pattern = re.compile(r\" +([0-9]+) +([0-9Ee\\+-\\.]+) +([0-9Ee\\+-\\.]+) +([0-9Ee\\+-\\.]+) +([0-9Ee\\+-\\.]+) +([0-9Ee\\+-\\.]+) +([0-9Ee\\+-\\.]+) +([0-9Ee\\+-\\.]+)\")\n",
    "    while True:\n",
    "        line = file.readline()\n",
    "        if preceding_pattern.search(line) != None:\n",
    "            break\n",
    "    while True:\n",
    "        line = file.readline()\n",
    "        m = property_pattern.search(line)\n",
    "        if m != None:\n",
    "            p = extract_properties(m)\n",
    "            return p\n",
    "\n",
    "def get_averages(filename):\n",
    "    with open(filename, 'r') as f:\n",
    "        pattern1 = re.compile(\"Averages:\")\n",
    "        return find_properties(f, pattern1)\n",
    "    \n",
    "def get_fluctuations(filename):\n",
    "    with open(filename, 'r') as f:\n",
    "        pattern1 = re.compile(\"Root mean square fluctuations:\")\n",
    "        return find_properties(f, pattern1)\n",
    "\n",
    "def get_runtime(filename):\n",
    "    with open(filename, 'r') as f:\n",
    "        content = f.read()\n",
    "        pattern1 = re.compile(\"Time spent for MD iterations: ([0-9Ee\\+-\\.]+) sec\")\n",
    "        match = re.search(\"Time spent for MD iterations: ([0-9Ee\\+-\\.]+) sec\", content, flags=re.MULTILINE)\n",
    "        time = float(match.group(1))\n",
    "        return time\n"
   ]
  },
  {
   "cell_type": "markdown",
   "metadata": {},
   "source": [
    "## Exercise 1"
   ]
  },
  {
   "cell_type": "code",
   "execution_count": null,
   "metadata": {},
   "outputs": [],
   "source": [
    "num_steps = [100, 200, 500, 1000, 2000, 5000, 10000, 20000]\n",
    "etot = {}\n",
    "epot = {}\n",
    "ekin = {}\n",
    "d_epot = {}\n",
    "d_ekin = {}\n",
    "d_etot = {}\n",
    "for type in \"float\", \"double\", \"long\":\n",
    "    etot[type] = []\n",
    "    d_etot[type] = []\n",
    "    ekin[type] = []\n",
    "    d_ekin[type] = []\n",
    "    epot[type] = []\n",
    "    d_epot[type] = []\n",
    "    for x in num_steps:\n",
    "        averages = get_averages(\"ex1/calculations_dir/\" + type + \"_\" + str(x) + \".out\")\n",
    "        fluctuations = get_fluctuations(\"ex1/calculations_dir/\" + type + \"_\" + str(x) + \".out\")\n",
    "        etot[type].append(averages[\"etot\"])\n",
    "        d_etot[type].append(fluctuations[\"etot\"])\n",
    "        epot[type].append(averages[\"epot\"])\n",
    "        d_epot[type].append(fluctuations[\"epot\"])\n",
    "        ekin[type].append(averages[\"ekin\"])\n",
    "        d_ekin[type].append(fluctuations[\"ekin\"])"
   ]
  },
  {
   "cell_type": "code",
   "execution_count": null,
   "metadata": {
    "scrolled": true
   },
   "outputs": [],
   "source": [
    "plt.plot(num_steps, etot[\"float\"], label=\"float\")\n",
    "plt.plot(num_steps, etot[\"double\"], label=\"double\")\n",
    "plt.plot(num_steps, etot[\"long\"], label=\"long double\")\n",
    "plt.title(r\"$E_{tot}$\")\n",
    "plt.legend()\n",
    "plt.show()"
   ]
  },
  {
   "cell_type": "code",
   "execution_count": null,
   "metadata": {},
   "outputs": [],
   "source": [
    "plt.plot(num_steps, epot[\"float\"], label=\"float\")\n",
    "plt.plot(num_steps, epot[\"double\"], label=\"double\")\n",
    "plt.plot(num_steps, epot[\"long\"], label=\"long double\")\n",
    "plt.title(r\"$E_{pot}$\")\n",
    "plt.legend()\n",
    "plt.show()"
   ]
  },
  {
   "cell_type": "code",
   "execution_count": null,
   "metadata": {},
   "outputs": [],
   "source": [
    "plt.plot(num_steps, ekin[\"float\"], label=\"float\")\n",
    "plt.plot(num_steps, ekin[\"double\"], label=\"double\")\n",
    "plt.plot(num_steps, ekin[\"long\"], label=\"long double\")\n",
    "plt.title(r\"$E_{kin}$\")\n",
    "plt.legend()\n",
    "plt.show()"
   ]
  },
  {
   "cell_type": "code",
   "execution_count": null,
   "metadata": {
    "scrolled": true
   },
   "outputs": [],
   "source": [
    "plt.plot(num_steps, d_etot[\"float\"], label=\"float\")\n",
    "plt.plot(num_steps, d_etot[\"double\"], label=\"double\")\n",
    "plt.plot(num_steps, d_etot[\"long\"], label=\"long double\")\n",
    "plt.title(r\"$\\Delta E_{tot}$\")\n",
    "plt.legend()\n",
    "plt.show()"
   ]
  },
  {
   "cell_type": "markdown",
   "metadata": {},
   "source": [
    "## Exercise 2"
   ]
  },
  {
   "cell_type": "code",
   "execution_count": null,
   "metadata": {},
   "outputs": [],
   "source": [
    "time_step = [0.02, 0.01, 0.005, 0.002, 0.001]\n",
    "d_etot = []\n",
    "d_ekin = []\n",
    "fraction = []\n",
    "for x in time_step:\n",
    "    fluctuations = get_fluctuations(\"ex2/calculations_dir/\" + str(x) + \".out\")\n",
    "    fraction.append(fluctuations[\"etot\"] / fluctuations[\"ekin\"])"
   ]
  },
  {
   "cell_type": "code",
   "execution_count": null,
   "metadata": {},
   "outputs": [],
   "source": [
    "print(fraction)\n",
    "plt.plot(time_step, fraction)\n",
    "plt.title(r\"$\\Delta E_{tot} / \\Delta E_{kin}$\")\n",
    "plt.xlabel(r\"$\\Delta t$\")\n",
    "#plt.axhline(y=0.05, color='r')\n",
    "plt.show()"
   ]
  },
  {
   "cell_type": "markdown",
   "metadata": {},
   "source": [
    "## Exercise 3"
   ]
  },
  {
   "cell_type": "markdown",
   "metadata": {},
   "source": [
    "### TIme dependency"
   ]
  },
  {
   "cell_type": "code",
   "execution_count": null,
   "metadata": {},
   "outputs": [],
   "source": [
    "number_atoms = [125, 216, 343, 512, 729, 1000]"
   ]
  },
  {
   "cell_type": "markdown",
   "metadata": {},
   "source": [
    "Get the times from the constant volume calculations:"
   ]
  },
  {
   "cell_type": "code",
   "execution_count": null,
   "metadata": {},
   "outputs": [],
   "source": [
    "runtimes = []\n",
    "for x in number_atoms:\n",
    "    runtime = get_runtime(\"ex3/calculations_dir/constant_volume/\" + str(x) + \"_run.out\")\n",
    "    runtimes.append(runtime)"
   ]
  },
  {
   "cell_type": "code",
   "execution_count": null,
   "metadata": {},
   "outputs": [],
   "source": [
    "plt.plot(number_atoms, runtimes)\n",
    "plt.title(r\"Run time (s)\")\n",
    "plt.xlabel(r\"Number atoms\")\n",
    "plt.show()"
   ]
  },
  {
   "cell_type": "markdown",
   "metadata": {},
   "source": [
    "### Properties\n",
    "\n",
    "Radial distribution:"
   ]
  },
  {
   "cell_type": "code",
   "execution_count": null,
   "metadata": {},
   "outputs": [],
   "source": [
    "for type in \"constant_volume\", \"constant_density\":\n",
    "    dir = 'ex3/calculations_dir/' + type + '/'\n",
    "    for x in number_atoms:\n",
    "        filename = dir + 'gr_' + str(x) + '.dat'\n",
    "        data = np.loadtxt(filename)\n",
    "        plt.plot(data[:,0], data[:,1], label=str(x))\n",
    "    plt.title(\"g(r), \" + type)\n",
    "    plt.legend()\n",
    "    plt.show()"
   ]
  },
  {
   "cell_type": "markdown",
   "metadata": {},
   "source": [
    "Energies per atom, pressure:"
   ]
  },
  {
   "cell_type": "code",
   "execution_count": null,
   "metadata": {},
   "outputs": [],
   "source": [
    "for type in \"constant_volume\", \"constant_density\":\n",
    "    dir = 'ex3/calculations_dir/' + type + '/'\n",
    "    epot = []\n",
    "    ekin = []\n",
    "    pressure = []\n",
    "    for x in number_atoms:\n",
    "        output_filename = dir + str(x) + '_run.out'\n",
    "        averages = get_averages(output_filename)\n",
    "        epot.append(averages[\"epot\"] / x)\n",
    "        ekin.append(averages[\"ekin\"] / x)\n",
    "        pressure.append(averages[\"pressure\"])\n",
    "    # plot epot\n",
    "    plt.plot(number_atoms, epot)\n",
    "    plt.title(r\"$E_{pot} / N$, \" + type)\n",
    "    plt.xlabel(r\"N\")\n",
    "    plt.show()\n",
    "    # plot ekin\n",
    "    plt.plot(number_atoms, ekin)\n",
    "    plt.title(r\"$E_{kin} / N$, \" + type)\n",
    "    plt.xlabel(r\"N\")\n",
    "    plt.show()\n",
    "    # plot pressure\n",
    "    plt.plot(number_atoms, pressure)\n",
    "    plt.title(r\"Pressure, \" + type)\n",
    "    plt.xlabel(r\"N\")\n",
    "    plt.show()"
   ]
  },
  {
   "cell_type": "markdown",
   "metadata": {},
   "source": [
    "## Exercise 4"
   ]
  },
  {
   "cell_type": "markdown",
   "metadata": {},
   "source": [
    "### TIme dependency"
   ]
  },
  {
   "cell_type": "code",
   "execution_count": null,
   "metadata": {},
   "outputs": [],
   "source": [
    "cutoffs = [1.0, 1.5, 2.0, 2.5, 3.0, 3.5, 4.0, 4.5, 5.0]"
   ]
  },
  {
   "cell_type": "code",
   "execution_count": null,
   "metadata": {},
   "outputs": [],
   "source": [
    "runtimes = []\n",
    "for x in cutoffs:\n",
    "    runtime = get_runtime(\"ex4/calculations_dir/\" + str(x) + \".out\")\n",
    "    runtimes.append(runtime)"
   ]
  },
  {
   "cell_type": "code",
   "execution_count": null,
   "metadata": {},
   "outputs": [],
   "source": [
    "plt.plot(cutoffs, runtimes)\n",
    "plt.title(r\"Run time (s)\")\n",
    "plt.xlabel(r\"Cutoff (nm)\")\n",
    "plt.show()"
   ]
  },
  {
   "cell_type": "code",
   "execution_count": null,
   "metadata": {
    "scrolled": false
   },
   "outputs": [],
   "source": [
    "dir = 'ex4/calculations_dir/'\n",
    "d_etot_by_d_ekin = []\n",
    "d_etot_by_d_epot = []\n",
    "for x in cutoffs:\n",
    "    output_filename = dir + str(x) + '.out'\n",
    "    fluctuations = get_fluctuations(output_filename)\n",
    "    d_etot_by_d_ekin.append(fluctuations[\"etot\"] / fluctuations[\"ekin\"])\n",
    "    d_etot_by_d_epot.append(fluctuations[\"etot\"] / fluctuations[\"epot\"])\n",
    "# plot d_etot / d_epot\n",
    "plt.plot(cutoffs, d_etot_by_d_epot)\n",
    "plt.title(r\"$\\Delta E_{tot} / \\Delta E_{pot}$\")\n",
    "plt.xlabel(r\"Cutoff (nm)\")\n",
    "#plt.axhline(y=0.05, color='r')\n",
    "plt.show()\n",
    "# plot d_etot / d_ekin\n",
    "plt.plot(cutoffs, d_etot_by_d_ekin)\n",
    "plt.title(r\"$\\Delta E_{tot} / \\Delta E_{kin}$\")\n",
    "plt.xlabel(r\"Cutoff (nm)\")\n",
    "#plt.axhline(y=0.05, color='r')\n",
    "plt.show()"
   ]
  },
  {
   "cell_type": "markdown",
   "metadata": {},
   "source": [
    "## Exercise 5"
   ]
  },
  {
   "cell_type": "markdown",
   "metadata": {},
   "source": [
    "Fig. 2 from Ref. 4:"
   ]
  },
  {
   "cell_type": "code",
   "execution_count": null,
   "metadata": {},
   "outputs": [],
   "source": [
    "from IPython.display import Image\n",
    "Image(filename='energy_fluctuation_ref4.png') "
   ]
  },
  {
   "cell_type": "code",
   "execution_count": null,
   "metadata": {},
   "outputs": [],
   "source": [
    "coupling_times = [0.003, 0.01, 0.03, 0.1, 0.3, 1.0]\n",
    "dir = 'ex5/calculations_dir/'\n",
    "d_etot = []\n",
    "d_epot = []\n",
    "d_ekin = []\n",
    "for x in coupling_times:\n",
    "    output_filename = dir + str(x) + '.out'\n",
    "    fluctuations = get_fluctuations(output_filename)\n",
    "    d_etot.append(fluctuations[\"etot\"])\n",
    "    d_ekin.append(fluctuations[\"ekin\"])\n",
    "    d_epot.append(fluctuations[\"epot\"])\n",
    "# plots\n",
    "plt.plot(coupling_times, d_etot, label=r\"$\\Delta E_{tot}$\")\n",
    "plt.plot(coupling_times, d_epot, label=r\"$\\Delta E_{pot}$\")\n",
    "plt.plot(coupling_times, d_ekin, label=r\"$\\Delta E_{kin}$\")\n",
    "plt.legend()\n",
    "plt.xlabel(r\"Coupling time (ps)\")\n",
    "plt.show()"
   ]
  },
  {
   "cell_type": "markdown",
   "metadata": {},
   "source": [
    "## Exercise 6"
   ]
  },
  {
   "cell_type": "code",
   "execution_count": null,
   "metadata": {
    "scrolled": false
   },
   "outputs": [],
   "source": [
    "dir = 'ex6/calculations_dir/'\n",
    "for type in \"periodic\", \"vacuum\":\n",
    "    filename = dir + 'gr_' + type + '.dat'\n",
    "    data = np.loadtxt(filename)\n",
    "    plt.plot(data[:,0], data[:,1], label=type)\n",
    "plt.title(\"g(r), \" + type)\n",
    "plt.legend()\n",
    "plt.show()"
   ]
  },
  {
   "cell_type": "code",
   "execution_count": null,
   "metadata": {
    "scrolled": true
   },
   "outputs": [],
   "source": [
    "averages_periodic = get_averages(dir + \"periodic.out\")\n",
    "averages_vacuum = get_averages(dir + \"vacuum.out\")\n",
    "print(\"Etot:\\nPeriodic: \" + str(averages_periodic[\"etot\"]) + \"\\nVacuum: \" + str(averages_vacuum[\"etot\"]) + \"\\n\")\n",
    "print(\"Epot:\\nPeriodic: \" + str(averages_periodic[\"epot\"]) + \"\\nVacuum: \" + str(averages_vacuum[\"epot\"]) + \"\\n\")\n",
    "print(\"Ekin:\\nPeriodic: \" + str(averages_periodic[\"ekin\"]) + \"\\nVacuum: \" + str(averages_vacuum[\"ekin\"]))"
   ]
  }
 ],
 "metadata": {
  "kernelspec": {
   "display_name": "Python 3",
   "language": "python",
   "name": "python3"
  },
  "language_info": {
   "codemirror_mode": {
    "name": "ipython",
    "version": 3
   },
   "file_extension": ".py",
   "mimetype": "text/x-python",
   "name": "python",
   "nbconvert_exporter": "python",
   "pygments_lexer": "ipython3",
   "version": "3.6.6"
  }
 },
 "nbformat": 4,
 "nbformat_minor": 2
}
